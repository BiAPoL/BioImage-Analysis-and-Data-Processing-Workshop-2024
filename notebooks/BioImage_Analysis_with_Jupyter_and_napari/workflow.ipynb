{
 "cells": [
  {
   "cell_type": "code",
   "execution_count": null,
   "id": "064a893f",
   "metadata": {},
   "outputs": [],
   "source": [
    "from skimage.io import imread\n",
    "import napari_segment_blobs_and_things_with_membranes as nsbatwm  # version 0.3.6\n",
    "import pyclesperanto_prototype as cle  # version 0.24.1\n",
    "import napari\n",
    "viewer = napari.Viewer()"
   ]
  },
  {
   "cell_type": "markdown",
   "id": "7c480282",
   "metadata": {},
   "source": [
    "## Loading 'nuclei3d'\n",
    "Please enter code for loading 'nuclei3d' here."
   ]
  },
  {
   "cell_type": "code",
   "execution_count": null,
   "id": "28942952",
   "metadata": {},
   "outputs": [],
   "source": [
    "# filename = 'path/to/image.tif'\n",
    "# image0_n = imread(filename)\n",
    "image0_n = viewer.layers['nuclei3d'].data"
   ]
  },
  {
   "cell_type": "markdown",
   "id": "43c5e4e9",
   "metadata": {},
   "source": [
    "## voronoi otsu labeling"
   ]
  },
  {
   "cell_type": "code",
   "execution_count": null,
   "id": "7ec45489",
   "metadata": {},
   "outputs": [],
   "source": [
    "image1_V = nsbatwm.voronoi_otsu_labeling(image0_n, 9.0, 2.0)\n",
    "viewer.add_labels(image1_V, name='Result of Voronoi-Otsu-labeling (nsbatwm)')\n",
    "napari.utils.nbscreenshot(viewer)"
   ]
  },
  {
   "cell_type": "markdown",
   "id": "16bf38fd",
   "metadata": {},
   "source": [
    "## dilate labels"
   ]
  },
  {
   "cell_type": "code",
   "execution_count": null,
   "id": "a323866a",
   "metadata": {},
   "outputs": [],
   "source": [
    "image2_dl = cle.dilate_labels(image1_V, None, 3.0)\n",
    "viewer.add_labels(image2_dl, name='Result of dilate_labels (clesperanto)')\n",
    "napari.utils.nbscreenshot(viewer)"
   ]
  },
  {
   "cell_type": "markdown",
   "id": "56206ae6",
   "metadata": {},
   "source": [
    "## erode labels"
   ]
  },
  {
   "cell_type": "code",
   "execution_count": null,
   "id": "38a92576",
   "metadata": {},
   "outputs": [],
   "source": [
    "image3_el = cle.erode_labels(image2_dl, None, 3.0, False)\n",
    "viewer.add_labels(image3_el, name='Result of erode_labels (clesperanto)')\n",
    "napari.utils.nbscreenshot(viewer)"
   ]
  }
 ],
 "metadata": {
  "jupytext": {
   "cell_metadata_filter": "-all",
   "main_language": "python",
   "notebook_metadata_filter": "-all"
  },
  "kernelspec": {
   "display_name": "Python 3 (ipykernel)",
   "language": "python",
   "name": "python3"
  },
  "language_info": {
   "codemirror_mode": {
    "name": "ipython",
    "version": 3
   },
   "file_extension": ".py",
   "mimetype": "text/x-python",
   "name": "python",
   "nbconvert_exporter": "python",
   "pygments_lexer": "ipython3",
   "version": "3.9.16"
  },
  "widgets": {
   "application/vnd.jupyter.widget-state+json": {
    "state": {},
    "version_major": 2,
    "version_minor": 0
   }
  }
 },
 "nbformat": 4,
 "nbformat_minor": 5
}
